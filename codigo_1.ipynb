{
 "cells": [
  {
   "cell_type": "code",
   "execution_count": 5,
   "metadata": {},
   "outputs": [
    {
     "name": "stdout",
     "output_type": "stream",
     "text": [
      "Soma dos dígitos do RA: 28\n",
      "Altura inicial h0: 84 m\n"
     ]
    },
    {
     "ename": "TypeError",
     "evalue": "can't multiply sequence by non-int of type 'float'",
     "output_type": "error",
     "traceback": [
      "\u001b[1;31m---------------------------------------------------------------------------\u001b[0m",
      "\u001b[1;31mTypeError\u001b[0m                                 Traceback (most recent call last)",
      "Cell \u001b[1;32mIn[5], line 20\u001b[0m\n\u001b[0;32m     15\u001b[0m g\u001b[38;5;241m=\u001b[39m\u001b[38;5;241m9\u001b[39m,\u001b[38;5;241m81\u001b[39m\n\u001b[0;32m     16\u001b[0m \u001b[38;5;66;03m# Resolver a equação do movimento vertical para determinar o tempo total\u001b[39;00m\n\u001b[0;32m     17\u001b[0m \u001b[38;5;66;03m# h(t) = h0 + v0 * t - (1/2) * g * t^2\u001b[39;00m\n\u001b[0;32m     18\u001b[0m \u001b[38;5;66;03m# Quando h(t) = 0, temos: - (1/2) * g * t^2 + v0 * t + h0 = 0\u001b[39;00m\n\u001b[0;32m     19\u001b[0m \u001b[38;5;66;03m# Isso é uma equação quadrática da forma: at^2 + bt + c = 0.\u001b[39;00m\n\u001b[1;32m---> 20\u001b[0m a \u001b[38;5;241m=\u001b[39m \u001b[38;5;241m-\u001b[39m\u001b[38;5;241m0.5\u001b[39m \u001b[38;5;241m*\u001b[39m g\n\u001b[0;32m     21\u001b[0m b \u001b[38;5;241m=\u001b[39m v0\n\u001b[0;32m     22\u001b[0m c \u001b[38;5;241m=\u001b[39m h0\n",
      "\u001b[1;31mTypeError\u001b[0m: can't multiply sequence by non-int of type 'float'"
     ]
    }
   ],
   "source": [
    "import numpy as np\n",
    "# Solicitar o número do RA\n",
    "ra = input(\"Digite seu RA: \")\n",
    "\n",
    "# Calcular a soma dos dígitos do RA\n",
    "soma_digitos = sum(int(digito) for digito in ra)\n",
    "\n",
    "# Definir h0 como sendo a soma dos dígitos do RA multiplicada por 3\n",
    "h0 = soma_digitos * 3\n",
    "print(f\"Soma dos dígitos do RA: {soma_digitos}\")\n",
    "print(f\"Altura inicial h0: {h0} m\")\n",
    "\n",
    "# Solicitar ao usuário a velocidade inicial (em m/s)\n",
    "v0 = float(input(\"Digite a velocidade inicial (m/s): \"))\n",
    "g=9,81\n",
    "# Resolver a equação do movimento vertical para determinar o tempo total\n",
    "# h(t) = h0 + v0 * t - (1/2) * g * t^2\n",
    "# Quando h(t) = 0, temos: - (1/2) * g * t^2 + v0 * t + h0 = 0\n",
    "# Isso é uma equação quadrática da forma: at^2 + bt + c = 0.\n",
    "a = -0.5 * g\n",
    "b = v0\n",
    "c = h0\n",
    "\n",
    "# Calcular o discriminante (delta)\n",
    "delta = b**2 - 4 * a * c\n",
    "\n",
    "# Verificar se há solução real\n",
    "if delta < 0:\n",
    "    print(\"Não há solução real para o tempo total.\")\n",
    "else:\n",
    "    # Calcular as raízes da equação quadrática\n",
    "    t1 = (-b - np.sqrt(delta)) / (2 * a)\n",
    "    t2 = (-b + np.sqrt(delta)) / (2 * a)\n",
    "\n",
    "    # O tempo total corresponde à raiz positiva\n",
    "    tempo_total = max(t1, t2)\n",
    "    print(f\"Tempo total até o corpo atingir o solo: {tempo_total:.2f} s\")"
   ]
  }
 ],
 "metadata": {
  "kernelspec": {
   "display_name": "base",
   "language": "python",
   "name": "python3"
  },
  "language_info": {
   "codemirror_mode": {
    "name": "ipython",
    "version": 3
   },
   "file_extension": ".py",
   "mimetype": "text/x-python",
   "name": "python",
   "nbconvert_exporter": "python",
   "pygments_lexer": "ipython3",
   "version": "3.12.7"
  }
 },
 "nbformat": 4,
 "nbformat_minor": 2
}
