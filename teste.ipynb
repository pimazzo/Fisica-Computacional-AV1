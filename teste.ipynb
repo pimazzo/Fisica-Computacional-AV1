{
 "cells": [
  {
   "cell_type": "markdown",
   "metadata": {},
   "source": [
    "Um projétil é lançado verticalmente para cima, a partir do solo, com velocidade inicial  (v0\n",
    " em m/s). O projétil está sujeito apenas à gravidade (g= 9,8 m/s2). Para tornar o exercício único para cada aluno, defina a altura inicial  (h0\n",
    " como sendo igual à soma dos dígitos do seu RA multiplicada por 3 (ou seja,  soma dos dígitos do RA).\n",
    "\n",
    "Tarefas:\n",
    "\n",
    "Solicitar o número do RA.\n",
    "• Calcular a soma dos dígitos do RA.\n",
    "• Definir  h0\n",
    " (soma dos dígitos do RA).\n",
    "• Solicitar ao usuário a velocidade inicial  (em m/s).\n",
    "• Calcular e imprimir o tempo total que o corpo leva para atingir o solo após o lançamento, considerando a altura inicial .\n",
    "Use a equação do movimento vertical para determinar o tempo total de voo:\n",
    " \n",
    "h(t)=h0+v0t−12gt2\n",
    " \n",
    "O tempo total corresponde ao instante em que h(t)=0"
   ]
  },
  {
   "cell_type": "markdown",
   "metadata": {},
   "source": [
    "![alt text](image.png)"
   ]
  },
  {
   "cell_type": "code",
   "execution_count": 3,
   "metadata": {},
   "outputs": [
    {
     "name": "stdout",
     "output_type": "stream",
     "text": [
      "Soma dos dígitos do RA: 0\n",
      "Altura inicial h0: 0 m\n",
      "Tempo total até o corpo atingir o solo: 0.00 s\n"
     ]
    }
   ],
   "source": [
    "import numpy as np\n",
    "# Solicitar o número do RA\n",
    "ra=0\n",
    "ra = input(\"Digite seu RA: \")\n",
    "\n",
    "# Calcular a soma dos dígitos do RA\n",
    "soma_digitos = sum(int(digito) for digito in ra)\n",
    "\n",
    "# Definir h0 como sendo a soma dos dígitos do RA multiplicada por 3\n",
    "h0 = soma_digitos * 3\n",
    "print(f\"Soma dos dígitos do RA: {soma_digitos}\")\n",
    "print(f\"Altura inicial h0: {h0} m\")\n",
    "\n",
    "# Solicitar ao usuário a velocidade inicial (em m/s)\n",
    "v0 = float(input(\"Digite a velocidade inicial (m/s): \"))\n",
    "g=9.81  # Aceleração da gravidade (m/s^2)\n",
    "# Resolver a equação do movimento vertical para determinar o tempo total\n",
    "# h(t) = h0 + v0 * t - (1/2) * g * t^2\n",
    "# Quando h(t) = 0, temos: - (1/2) * g * t^2 + v0 * t + h0 = 0\n",
    "# Isso é uma equação quadrática da forma: at^2 + bt + c = 0.\n",
    "a = -0.5 * g\n",
    "b = v0\n",
    "c = h0\n",
    "\n",
    "# Calcular o discriminante (delta)\n",
    "delta = b**2 - 4 * a * c\n",
    "\n",
    "# Verificar se há solução real\n",
    "if delta < 0:\n",
    "    print(\"Não há solução real para o tempo total.\")\n",
    "else:\n",
    "    # Calcular as raízes da equação quadrática\n",
    "    t1 = (-b - np.sqrt(delta)) / (2 * a)\n",
    "    t2 = (-b + np.sqrt(delta)) / (2 * a)\n",
    "\n",
    "    # O tempo total corresponde à raiz positiva\n",
    "    tempo_total = max(t1, t2)\n",
    "    print(f\"Tempo total até o corpo atingir o solo: {tempo_total:.2f} s\")"
   ]
  },
  {
   "cell_type": "code",
   "execution_count": null,
   "metadata": {},
   "outputs": [],
   "source": []
  }
 ],
 "metadata": {
  "kernelspec": {
   "display_name": "base",
   "language": "python",
   "name": "python3"
  },
  "language_info": {
   "codemirror_mode": {
    "name": "ipython",
    "version": 3
   },
   "file_extension": ".py",
   "mimetype": "text/x-python",
   "name": "python",
   "nbconvert_exporter": "python",
   "pygments_lexer": "ipython3",
   "version": "3.12.7"
  }
 },
 "nbformat": 4,
 "nbformat_minor": 2
}
